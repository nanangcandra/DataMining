{
  "nbformat": 4,
  "nbformat_minor": 0,
  "metadata": {
    "colab": {
      "name": "Preprocessig Data.ipynb",
      "provenance": []
    },
    "kernelspec": {
      "name": "python3",
      "display_name": "Python 3"
    },
    "language_info": {
      "name": "python"
    }
  },
  "cells": [
    {
      "cell_type": "code",
      "execution_count": 1,
      "metadata": {
        "id": "r2ZorkLom-nO"
      },
      "outputs": [],
      "source": [
        "import numpy as np\n",
        "import matplotlib.pyplot as plt\n",
        "import pandas as pd"
      ]
    },
    {
      "cell_type": "markdown",
      "source": [
        "Numpy merupakan library python digunakan untuk komputasi matriks. Matplotlib merupakan library python untuk presentasi data berupa grafik atau plot. ....."
      ],
      "metadata": {
        "id": "OTIQeVM7nHaT"
      }
    },
    {
      "cell_type": "code",
      "source": [
        "dataset = pd.read_csv('Data.csv')\n",
        "x = dataset.iloc[:, :-1].values\n",
        "y = dataset.iloc[:, -1].values"
      ],
      "metadata": {
        "id": "Tr3XuMqinKPm"
      },
      "execution_count": 2,
      "outputs": []
    },
    {
      "cell_type": "code",
      "source": [
        "print(x)"
      ],
      "metadata": {
        "colab": {
          "base_uri": "https://localhost:8080/"
        },
        "id": "vCpUNT1jnNVx",
        "outputId": "a72c0588-2150-4966-e75f-d107ba33a045"
      },
      "execution_count": 3,
      "outputs": [
        {
          "output_type": "stream",
          "name": "stdout",
          "text": [
            "[['Rembang' 40.0 65000.0]\n",
            " ['Semarang' 37.0 54000.0]\n",
            " ['Kudus' 35.0 43000.0]\n",
            " ['Semarang' 26.0 76000.0]\n",
            " ['Kudus' 31.0 nan]\n",
            " ['Rembang' 28.0 83000.0]\n",
            " ['Semarang' nan 75000.0]\n",
            " ['Rembang' 34.0 49000.0]\n",
            " ['Kudus' 25.0 59000.0]\n",
            " ['Rembang' 41.0 67000.0]]\n"
          ]
        }
      ]
    },
    {
      "cell_type": "code",
      "source": [
        "print(y)"
      ],
      "metadata": {
        "colab": {
          "base_uri": "https://localhost:8080/"
        },
        "id": "E12l3wPunaCa",
        "outputId": "6ac8dcf5-2e1e-4e05-a4fd-dd7abeb576ac"
      },
      "execution_count": 4,
      "outputs": [
        {
          "output_type": "stream",
          "name": "stdout",
          "text": [
            "['Yes' 'Yes' 'No' 'Yes' 'No' 'No' 'Yes' 'No' 'Yes' 'No']\n"
          ]
        }
      ]
    },
    {
      "cell_type": "code",
      "source": [
        "from sklearn.impute import SimpleImputer\n",
        "imputer = SimpleImputer(missing_values=np.nan, strategy='mean')\n",
        "imputer.fit(x[:, 1:3])\n",
        "x[:, 1:3] = imputer.transform(x[:, 1:3])"
      ],
      "metadata": {
        "id": "rjK-j8TdnonJ"
      },
      "execution_count": 5,
      "outputs": []
    },
    {
      "cell_type": "code",
      "source": [
        "print(x)"
      ],
      "metadata": {
        "colab": {
          "base_uri": "https://localhost:8080/"
        },
        "id": "HkfpgnktoRtJ",
        "outputId": "7229a780-969f-4d4a-bffb-1c72ba874021"
      },
      "execution_count": 6,
      "outputs": [
        {
          "output_type": "stream",
          "name": "stdout",
          "text": [
            "[['Rembang' 40.0 65000.0]\n",
            " ['Semarang' 37.0 54000.0]\n",
            " ['Kudus' 35.0 43000.0]\n",
            " ['Semarang' 26.0 76000.0]\n",
            " ['Kudus' 31.0 63444.444444444445]\n",
            " ['Rembang' 28.0 83000.0]\n",
            " ['Semarang' 33.0 75000.0]\n",
            " ['Rembang' 34.0 49000.0]\n",
            " ['Kudus' 25.0 59000.0]\n",
            " ['Rembang' 41.0 67000.0]]\n"
          ]
        }
      ]
    },
    {
      "cell_type": "code",
      "source": [
        "from sklearn.compose import ColumnTransformer\n",
        "from sklearn.preprocessing import OneHotEncoder\n",
        "ct = ColumnTransformer(transformers=[('encorder', OneHotEncoder(), [0])], remainder='passthrough')\n",
        "x = np.array(ct.fit_transform(x))"
      ],
      "metadata": {
        "id": "YWDbnds-oynv"
      },
      "execution_count": 7,
      "outputs": []
    },
    {
      "cell_type": "code",
      "source": [
        "print(x)"
      ],
      "metadata": {
        "colab": {
          "base_uri": "https://localhost:8080/"
        },
        "id": "DLQCVDWwo7Bi",
        "outputId": "b0991e8e-1baa-4c3b-b698-9845fd45ce25"
      },
      "execution_count": 8,
      "outputs": [
        {
          "output_type": "stream",
          "name": "stdout",
          "text": [
            "[[0.0 1.0 0.0 40.0 65000.0]\n",
            " [0.0 0.0 1.0 37.0 54000.0]\n",
            " [1.0 0.0 0.0 35.0 43000.0]\n",
            " [0.0 0.0 1.0 26.0 76000.0]\n",
            " [1.0 0.0 0.0 31.0 63444.444444444445]\n",
            " [0.0 1.0 0.0 28.0 83000.0]\n",
            " [0.0 0.0 1.0 33.0 75000.0]\n",
            " [0.0 1.0 0.0 34.0 49000.0]\n",
            " [1.0 0.0 0.0 25.0 59000.0]\n",
            " [0.0 1.0 0.0 41.0 67000.0]]\n"
          ]
        }
      ]
    },
    {
      "cell_type": "code",
      "source": [
        "from sklearn.preprocessing import LabelEncoder\n",
        "le = LabelEncoder()\n",
        "y = le.fit_transform(y)"
      ],
      "metadata": {
        "id": "B2M07GNLpJxn"
      },
      "execution_count": 9,
      "outputs": []
    },
    {
      "cell_type": "code",
      "source": [
        "print(y)"
      ],
      "metadata": {
        "colab": {
          "base_uri": "https://localhost:8080/"
        },
        "id": "SZZbJngPpN3k",
        "outputId": "7f7cdf0b-3b25-4dca-ea89-1c99913b9541"
      },
      "execution_count": 10,
      "outputs": [
        {
          "output_type": "stream",
          "name": "stdout",
          "text": [
            "[1 1 0 1 0 0 1 0 1 0]\n"
          ]
        }
      ]
    },
    {
      "cell_type": "code",
      "source": [
        "from sklearn.model_selection import train_test_split\n",
        "x_train, x_test, y_train, y_test = train_test_split(x, y, test_size=0.2, random_state=1)"
      ],
      "metadata": {
        "id": "3E8VYve0pUJL"
      },
      "execution_count": 11,
      "outputs": []
    },
    {
      "cell_type": "code",
      "source": [
        "print(x_train)"
      ],
      "metadata": {
        "colab": {
          "base_uri": "https://localhost:8080/"
        },
        "id": "OO2uEFI-pYYG",
        "outputId": "e9a5efe7-f1b7-48f7-ea95-f591aae29782"
      },
      "execution_count": 12,
      "outputs": [
        {
          "output_type": "stream",
          "name": "stdout",
          "text": [
            "[[0.0 0.0 1.0 33.0 75000.0]\n",
            " [1.0 0.0 0.0 31.0 63444.444444444445]\n",
            " [0.0 1.0 0.0 40.0 65000.0]\n",
            " [0.0 0.0 1.0 26.0 76000.0]\n",
            " [0.0 0.0 1.0 37.0 54000.0]\n",
            " [0.0 1.0 0.0 34.0 49000.0]\n",
            " [1.0 0.0 0.0 25.0 59000.0]\n",
            " [0.0 1.0 0.0 28.0 83000.0]]\n"
          ]
        }
      ]
    },
    {
      "cell_type": "code",
      "source": [
        "print(x_test)"
      ],
      "metadata": {
        "colab": {
          "base_uri": "https://localhost:8080/"
        },
        "id": "bTalsxcOpeg2",
        "outputId": "b955eeb9-1593-40c7-e7de-73bf6c1b749b"
      },
      "execution_count": 13,
      "outputs": [
        {
          "output_type": "stream",
          "name": "stdout",
          "text": [
            "[[1.0 0.0 0.0 35.0 43000.0]\n",
            " [0.0 1.0 0.0 41.0 67000.0]]\n"
          ]
        }
      ]
    },
    {
      "cell_type": "code",
      "source": [
        "print(y_train)"
      ],
      "metadata": {
        "colab": {
          "base_uri": "https://localhost:8080/"
        },
        "id": "NSkjL2GXpqi9",
        "outputId": "953c156b-fba2-4dfa-f330-fc7d0c0355e9"
      },
      "execution_count": 14,
      "outputs": [
        {
          "output_type": "stream",
          "name": "stdout",
          "text": [
            "[1 0 1 1 1 0 1 0]\n"
          ]
        }
      ]
    },
    {
      "cell_type": "code",
      "source": [
        "print(y_test)"
      ],
      "metadata": {
        "colab": {
          "base_uri": "https://localhost:8080/"
        },
        "id": "eAsKSsNqpt1u",
        "outputId": "c6009d79-9212-48c4-fcfa-3eb6ac713b29"
      },
      "execution_count": 15,
      "outputs": [
        {
          "output_type": "stream",
          "name": "stdout",
          "text": [
            "[0 0]\n"
          ]
        }
      ]
    },
    {
      "cell_type": "code",
      "source": [
        "from sklearn.preprocessing import StandardScaler\n",
        "sc = StandardScaler()\n",
        "x_train[:, 3:] = sc.fit_transform(x_train[:, 3:])\n",
        "x_test[:, 3:] = sc.transform(x_test[:, 3:])"
      ],
      "metadata": {
        "id": "TbUPNDUbqDHU"
      },
      "execution_count": 16,
      "outputs": []
    },
    {
      "cell_type": "code",
      "source": [
        "print(x_train)"
      ],
      "metadata": {
        "colab": {
          "base_uri": "https://localhost:8080/"
        },
        "id": "RpByt8BsqHSE",
        "outputId": "ddec42ff-c77c-4d8b-85a5-8c75bf6d2a74"
      },
      "execution_count": 17,
      "outputs": [
        {
          "output_type": "stream",
          "name": "stdout",
          "text": [
            "[[0.0 0.0 1.0 0.2528608687120868 0.863077607410918]\n",
            " [1.0 0.0 0.0 -0.15171652122725207 -0.1929232298918529]\n",
            " [0.0 1.0 0.0 1.668881733499773 -0.05076927102417227]\n",
            " [0.0 0.0 1.0 -1.1631599960755992 0.954462295254427]\n",
            " [0.0 0.0 1.0 1.0620156485907646 -1.0560008373027716]\n",
            " [0.0 1.0 0.0 0.45514956368175624 -1.5129242765203168]\n",
            " [1.0 0.0 0.0 -1.3654486910452688 -0.5990773980852264]\n",
            " [0.0 1.0 0.0 -0.7585826061362604 1.5941551101589901]]\n"
          ]
        }
      ]
    },
    {
      "cell_type": "code",
      "source": [
        "print(x_test)"
      ],
      "metadata": {
        "colab": {
          "base_uri": "https://localhost:8080/"
        },
        "id": "JX_6W1n0qMIW",
        "outputId": "1605a630-a22e-4c8a-cd83-e1c156acc969"
      },
      "execution_count": 18,
      "outputs": [
        {
          "output_type": "stream",
          "name": "stdout",
          "text": [
            "[[1.0 0.0 0.0 0.6574382586514257 -2.061232403581371]\n",
            " [0.0 1.0 0.0 1.8711704284694424 0.13200010466284579]]\n"
          ]
        }
      ]
    }
  ]
}